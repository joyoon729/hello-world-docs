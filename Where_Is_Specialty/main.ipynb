{
 "cells": [
  {
   "cell_type": "code",
   "execution_count": 1,
   "metadata": {},
   "outputs": [],
   "source": [
    "import pandas as pd\n",
    "from bs4 import BeautifulSoup as bs\n",
    "import urllib.request\n",
    "import urllib.parse\n",
    "import re"
   ]
  },
  {
   "cell_type": "markdown",
   "metadata": {},
   "source": [
    "#### 블랙워터이슈 홈페이지\n",
    "---\n",
    "https://bwissue.com/"
   ]
  },
  {
   "cell_type": "code",
   "execution_count": 2,
   "metadata": {},
   "outputs": [],
   "source": [
    "# 블랙워터이슈 - 스페셜티카페 - 서울 url\n",
    "# 'https://bwissue.com/index.php?mid=cafeinfo&category=141894&page='\n",
    "def cafeInfo(cafe):\n",
    "    title = location = website = ''\n",
    "    title = cafe.select_one('a.subject').text\n",
    "    for extra in cafe.select('p.extra'):\n",
    "        if extra.strong.text[:2] == '위치':\n",
    "            location = extra.text[4:]\n",
    "        if extra.strong.text[:4] == '웹사이트':\n",
    "            website = extra.text[6:]\n",
    "    return title, location, website"
   ]
  },
  {
   "cell_type": "code",
   "execution_count": 3,
   "metadata": {},
   "outputs": [
    {
     "name": "stdout",
     "output_type": "stream",
     "text": [
      "error page : 8\n"
     ]
    }
   ],
   "source": [
    "cafe_list = []\n",
    "for index in range(1,16):\n",
    "    try:\n",
    "        url = 'https://bwissue.com/index.php?mid=cafeinfo&category=141894&page='+str(index)\n",
    "        html = bs(urllib.request.urlopen(url).read().decode('utf-8'), 'html.parser')\n",
    "        cafes = html.select('div.cover_info')\n",
    "        for cafe in cafes:\n",
    "            cafe_list.append(cafeInfo(cafe))\n",
    "    except:\n",
    "        print('error page : ' + str(index))\n",
    "df = pd.DataFrame(cafe_list, columns=['title', 'location', 'website'])"
   ]
  },
  {
   "cell_type": "code",
   "execution_count": 4,
   "metadata": {},
   "outputs": [
    {
     "data": {
      "text/html": [
       "<div>\n",
       "<style scoped>\n",
       "    .dataframe tbody tr th:only-of-type {\n",
       "        vertical-align: middle;\n",
       "    }\n",
       "\n",
       "    .dataframe tbody tr th {\n",
       "        vertical-align: top;\n",
       "    }\n",
       "\n",
       "    .dataframe thead th {\n",
       "        text-align: right;\n",
       "    }\n",
       "</style>\n",
       "<table border=\"1\" class=\"dataframe\">\n",
       "  <thead>\n",
       "    <tr style=\"text-align: right;\">\n",
       "      <th></th>\n",
       "      <th>title</th>\n",
       "      <th>location</th>\n",
       "      <th>website</th>\n",
       "    </tr>\n",
       "  </thead>\n",
       "  <tbody>\n",
       "    <tr>\n",
       "      <th>23</th>\n",
       "      <td>안녕하세요. 스페셜티 커피와 까눌레를 전문으로 하는 카페 '스크렘(Screme)'입니다.</td>\n",
       "      <td>서울시 강남구 역삼동 811번지 1층</td>\n",
       "      <td>http://www.instagram.com/cafe.screme</td>\n",
       "    </tr>\n",
       "    <tr>\n",
       "      <th>239</th>\n",
       "      <td>베니티 테이블</td>\n",
       "      <td>서울시 강남구 역삼동 725-67 1층 베니티 테이블</td>\n",
       "      <td></td>\n",
       "    </tr>\n",
       "    <tr>\n",
       "      <th>261</th>\n",
       "      <td>에스프레소 웍스[역삼중앙]</td>\n",
       "      <td>서울시 강남구 역삼동 637-32</td>\n",
       "      <td></td>\n",
       "    </tr>\n",
       "  </tbody>\n",
       "</table>\n",
       "</div>"
      ],
      "text/plain": [
       "                                                 title  \\\n",
       "23   안녕하세요. 스페셜티 커피와 까눌레를 전문으로 하는 카페 '스크렘(Screme)'입니다.   \n",
       "239                                            베니티 테이블   \n",
       "261                                     에스프레소 웍스[역삼중앙]   \n",
       "\n",
       "                          location                               website  \n",
       "23            서울시 강남구 역삼동 811번지 1층  http://www.instagram.com/cafe.screme  \n",
       "239  서울시 강남구 역삼동 725-67 1층 베니티 테이블                                        \n",
       "261             서울시 강남구 역삼동 637-32                                        "
      ]
     },
     "metadata": {},
     "output_type": "display_data"
    }
   ],
   "source": [
    "def I_want_there(location, want='서울'):\n",
    "    if want[-1]=='동' or want[-1]=='구' or want[-1]=='로':\n",
    "        want = want[:-1]\n",
    "    if re.search(want,location) is not None:\n",
    "        return True\n",
    "    else:\n",
    "        return False\n",
    "    \n",
    "display(df[df.location.agg(I_want_there, want='역삼동')])"
   ]
  },
  {
   "cell_type": "code",
   "execution_count": null,
   "metadata": {},
   "outputs": [],
   "source": []
  }
 ],
 "metadata": {
  "kernelspec": {
   "display_name": "Python 3",
   "language": "python",
   "name": "python3"
  },
  "language_info": {
   "codemirror_mode": {
    "name": "ipython",
    "version": 3
   },
   "file_extension": ".py",
   "mimetype": "text/x-python",
   "name": "python",
   "nbconvert_exporter": "python",
   "pygments_lexer": "ipython3",
   "version": "3.7.3"
  }
 },
 "nbformat": 4,
 "nbformat_minor": 2
}
